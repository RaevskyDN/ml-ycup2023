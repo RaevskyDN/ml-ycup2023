{
 "cells": [
  {
   "cell_type": "code",
   "execution_count": null,
   "id": "a3044375-e608-48b6-bf68-f027775789dd",
   "metadata": {},
   "outputs": [],
   "source": [
    "import os\n",
    "import h5py\n",
    "from tqdm import tqdm\n",
    "import numpy as np\n",
    "from multiprocessing import Pool\n",
    "import os"
   ]
  },
  {
   "cell_type": "code",
   "execution_count": null,
   "id": "de00f53a-5718-4f6e-af80-bf838c21f10f",
   "metadata": {},
   "outputs": [],
   "source": [
    "def process_file(_f):\n",
    "    print(_f)\n",
    "    with h5py.File(f\"train/{_f}\") as d:\n",
    "        with h5py.File(f\"prepared_train/{_f}\",'w') as f_out:\n",
    "            for timestamp in d.keys():\n",
    "                f_out.create_group(timestamp)\n",
    "                for lag in ['intensity','reflectivity','radial_velocity','events']:\n",
    "                    new_data = np.array(d[timestamp][lag])\n",
    "                    new_data[new_data <= -1999999] = -1\n",
    "                    new_data[new_data <= -999999] = 0\n",
    "                    f_out[timestamp].create_dataset(lag,data=new_data,compression='gzip',chunks=True,\n",
    "                                                   compression_opts=9)\n",
    "\n",
    "with Pool(6) as p:\n",
    "    p.map(process_file, os.listdir('train'))"
   ]
  },
  {
   "cell_type": "code",
   "execution_count": null,
   "id": "1448dcfc-e9b8-4beb-b6cc-587d4eb802f1",
   "metadata": {},
   "outputs": [],
   "source": [
    "with h5py.File('2022-test-public.hdf5') as d:\n",
    "    with h5py.File('prepared-test.hdf5','w') as f_out:\n",
    "        for timestamp in tqdm(d.keys()):\n",
    "            f_out.create_group(timestamp)\n",
    "            for lag in ['intensity','reflectivity','radial_velocity','events']:\n",
    "                new_data = np.array(d[timestamp][lag])\n",
    "                new_data[new_data <= -1999999] = -1\n",
    "                new_data[new_data <= -999999] = 0\n",
    "                f_out[timestamp].create_dataset(lag,data=new_data,compression='gzip',chunks=True,\n",
    "                                                compression_opts=9)"
   ]
  }
 ],
 "metadata": {
  "kernelspec": {
   "display_name": "Python 3 (ipykernel)",
   "language": "python",
   "name": "python3"
  },
  "language_info": {
   "codemirror_mode": {
    "name": "ipython",
    "version": 3
   },
   "file_extension": ".py",
   "mimetype": "text/x-python",
   "name": "python",
   "nbconvert_exporter": "python",
   "pygments_lexer": "ipython3",
   "version": "3.10.13"
  }
 },
 "nbformat": 4,
 "nbformat_minor": 5
}
