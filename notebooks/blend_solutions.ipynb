{
 "cells": [
  {
   "cell_type": "code",
   "execution_count": null,
   "id": "8d9e81bb-6915-47c6-86b5-64cbd08bbf3a",
   "metadata": {},
   "outputs": [],
   "source": [
    "import h5py\n",
    "import numpy as np\n",
    "import os"
   ]
  },
  {
   "cell_type": "code",
   "execution_count": null,
   "id": "5246b343-0eb8-43c4-a8f1-2f23bc861749",
   "metadata": {},
   "outputs": [],
   "source": [
    "solution_1 = \"best_model_5_epoch_output.hdf5\"\n",
    "solution_2 = \"first_additional_model_for_blend_3_epoch_output.hdf5\"\n",
    "solution_3 = \"second_additional_model_for_blend_3_epoch_output.hdf5\""
   ]
  },
  {
   "cell_type": "code",
   "execution_count": null,
   "id": "811a7663-8268-47cc-800a-1344dd89beea",
   "metadata": {},
   "outputs": [],
   "source": [
    "def combine_3_solutions(sol1,sol2,sol3,w1,w2,w3):\n",
    "    if w1 + w2 + w3 <= 0.9999 or w1 + w2 + w3 >= 1.0001 or w1 < 0 or w2 < 0 or w3 < 0:\n",
    "        raise ValueError(\"w1 + w2 + w3 don't equals one!!!\")\n",
    "    a_max,a_min = -1000,1000\n",
    "    with h5py.File(sol1,'r') as f1:\n",
    "        with h5py.File(sol2,'r') as f2:\n",
    "            with h5py.File(sol3,'r') as f3:\n",
    "                with h5py.File(f'final_solution.hdf5','w') as f_out:\n",
    "                    for key in f1.keys():\n",
    "                        a1 = np.array(f1[key]['intensity'])\n",
    "                        a2 = np.array(f2[key]['intensity'])\n",
    "                        a3 = np.array(f3[key]['intensity'])\n",
    "                        data=np.clip(w1*a1+w2*a2+w3*a3,a_min=0,a_max=100)\n",
    "                        a_min = min(a_min,np.min(data))\n",
    "                        a_max = max(a_max,np.max(data))\n",
    "                        f_out.create_group(key)\n",
    "                        f_out[key].create_dataset('intensity',data=data)\n",
    "    print(f\"totally max - {a_max}  min - {a_min}\")\n",
    "    print(f\"final_solution.hdf5 - it's {sol1} {sol2} {sol3} with weights {w1:.2f} {w2:.2f} {w3:.2f}\")"
   ]
  },
  {
   "cell_type": "code",
   "execution_count": null,
   "id": "f36bb98a-b219-4215-8f39-a840443741dd",
   "metadata": {},
   "outputs": [],
   "source": [
    "combine_3_solutions(solution_1,solution_2,solution_3,0.7,0.2,0.1)"
   ]
  }
 ],
 "metadata": {
  "kernelspec": {
   "display_name": "Python 3 (ipykernel)",
   "language": "python",
   "name": "python3"
  },
  "language_info": {
   "codemirror_mode": {
    "name": "ipython",
    "version": 3
   },
   "file_extension": ".py",
   "mimetype": "text/x-python",
   "name": "python",
   "nbconvert_exporter": "python",
   "pygments_lexer": "ipython3",
   "version": "3.10.13"
  }
 },
 "nbformat": 4,
 "nbformat_minor": 5
}
